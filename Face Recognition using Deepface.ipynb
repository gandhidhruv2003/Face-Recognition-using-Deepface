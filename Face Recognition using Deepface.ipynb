{
 "cells": [
  {
   "cell_type": "code",
   "execution_count": 3,
   "id": "ee5b0d00",
   "metadata": {},
   "outputs": [],
   "source": [
    "import threading\n",
    "import cv2\n",
    "from deepface import DeepFace"
   ]
  },
  {
   "cell_type": "code",
   "execution_count": null,
   "id": "e0f71044",
   "metadata": {},
   "outputs": [],
   "source": [
    "cap = cv2.VideoCapture(0, cv2.CAP_DSHOW)\n",
    "\n",
    "cap.set(cv2.CAP_PROP_FRAME_WIDTH, 640)\n",
    "cap.set(cv2.CAP_PROP_FRAME_HEIGHT, 480)\n",
    "\n",
    "counter = 0\n",
    "\n",
    "face_match = False\n",
    "\n",
    "reference_img = cv2.imread(\"IMG.jpg\")\n",
    "\n",
    "def checkFace(frame):\n",
    "    global face_match\n",
    "    try:\n",
    "        if DeepFace.verify(frame, reference_img.copy())[\"verified\"]:\n",
    "            face_match = True\n",
    "        else:\n",
    "            False    \n",
    "    except ValueError:\n",
    "        face_match = False\n",
    "\n",
    "while True:\n",
    "    ret, frame = cap.read()\n",
    "    \n",
    "    if ret:\n",
    "        if counter%30 == 0:\n",
    "            try:\n",
    "                threading.Thread(target=checkFace, args=(frame.copy(),))\n",
    "            except ValueError:\n",
    "                pass\n",
    "        counter+=1\n",
    "        \n",
    "        if face_match:\n",
    "            cv2.putText(frame, \"MATCH!\", (20,450), cv2.FONT_HERSHEY_SIMPLEX, 2, (0,255,0), 3)\n",
    "        else:\n",
    "            cv2.putText(frame, \"NOT MATCH!\", (20,450), cv2.FONT_HERSHEY_SIMPLEX, 2, (0,0,255), 3)\n",
    "        cv2.imshow(\"video\", frame)\n",
    "        \n",
    "    key = cv2.waitKey(1)\n",
    "    if key == ord(\"q\"):\n",
    "        break\n",
    "    \n",
    "cv2.destroyAllWindows()"
   ]
  },
  {
   "cell_type": "code",
   "execution_count": null,
   "id": "8a9bc821",
   "metadata": {},
   "outputs": [],
   "source": []
  }
 ],
 "metadata": {
  "kernelspec": {
   "display_name": "Python 3 (ipykernel)",
   "language": "python",
   "name": "python3"
  },
  "language_info": {
   "codemirror_mode": {
    "name": "ipython",
    "version": 3
   },
   "file_extension": ".py",
   "mimetype": "text/x-python",
   "name": "python",
   "nbconvert_exporter": "python",
   "pygments_lexer": "ipython3",
   "version": "3.9.13"
  }
 },
 "nbformat": 4,
 "nbformat_minor": 5
}
